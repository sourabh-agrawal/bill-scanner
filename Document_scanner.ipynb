{
 "cells": [
  {
   "cell_type": "code",
   "execution_count": 2,
   "metadata": {},
   "outputs": [],
   "source": [
    "import imutils\n",
    "import cv2 as cv\n",
    "from transform import four_point_transform\n",
    "from skimage.filters import threshold_local\n",
    "import numpy as np"
   ]
  },
  {
   "cell_type": "code",
   "execution_count": 3,
   "metadata": {},
   "outputs": [
    {
     "name": "stdout",
     "output_type": "stream",
     "text": [
      "edge\n"
     ]
    }
   ],
   "source": [
    "image = cv.imread('../images/bill_supermarket.jpg')\n",
    "\n",
    "# image.shape\n",
    "\n",
    "ratio = image.shape[0]/500.0\n",
    "\n",
    "orig = image.copy()\n",
    "image = imutils.resize(image, height=500)\n",
    "\n",
    "gray = cv.cvtColor(image, cv.COLOR_BGR2GRAY)\n",
    "gray = cv.GaussianBlur(gray, (5,5),0)\n",
    "edged = cv.Canny(gray, 100,200)\n",
    "\n",
    "print(\"edge\")\n",
    "cv.imshow(\"image\",image)\n",
    "cv.imshow(\"edged\",edged)\n",
    "# edged = cv.Canny(gray, 100,200)\n",
    "# cv.imshow(\"edged\",edged)\n",
    "cv.waitKey(0)\n",
    "cv.destroyAllWindows()"
   ]
  },
  {
   "cell_type": "code",
   "execution_count": 22,
   "metadata": {},
   "outputs": [
    {
     "data": {
      "text/plain": [
       "(500, 631, 3)"
      ]
     },
     "execution_count": 22,
     "metadata": {},
     "output_type": "execute_result"
    }
   ],
   "source": [
    "image.shape"
   ]
  },
  {
   "cell_type": "code",
   "execution_count": 23,
   "metadata": {},
   "outputs": [
    {
     "data": {
      "text/plain": [
       "(633, 800, 3)"
      ]
     },
     "execution_count": 23,
     "metadata": {},
     "output_type": "execute_result"
    }
   ],
   "source": [
    "orig.shape"
   ]
  },
  {
   "cell_type": "code",
   "execution_count": 12,
   "metadata": {},
   "outputs": [],
   "source": [
    "cv.GaussianBlur?"
   ]
  },
  {
   "cell_type": "code",
   "execution_count": 4,
   "metadata": {},
   "outputs": [],
   "source": [
    "im2, contours, hierarchy = cv.findContours(edged.copy(),cv.RETR_TREE,cv.CHAIN_APPROX_SIMPLE)"
   ]
  },
  {
   "cell_type": "code",
   "execution_count": 6,
   "metadata": {},
   "outputs": [
    {
     "data": {
      "text/plain": [
       "array([[0, 0, 0, ..., 0, 0, 0],\n",
       "       [0, 0, 0, ..., 0, 0, 0],\n",
       "       [0, 0, 0, ..., 0, 0, 0],\n",
       "       ...,\n",
       "       [0, 0, 0, ..., 0, 0, 0],\n",
       "       [0, 0, 0, ..., 0, 0, 0],\n",
       "       [0, 0, 0, ..., 0, 0, 0]], dtype=uint8)"
      ]
     },
     "execution_count": 6,
     "metadata": {},
     "output_type": "execute_result"
    }
   ],
   "source": [
    "cv.drawContours(im2, contours[0], -1, (0,255,0), 3)"
   ]
  },
  {
   "cell_type": "code",
   "execution_count": 29,
   "metadata": {},
   "outputs": [],
   "source": [
    "imutils.is_cv2?"
   ]
  },
  {
   "cell_type": "code",
   "execution_count": 30,
   "metadata": {},
   "outputs": [
    {
     "data": {
      "text/plain": [
       "array([[[296, 463]],\n",
       "\n",
       "       [[297, 464]],\n",
       "\n",
       "       [[297, 465]],\n",
       "\n",
       "       [[298, 465]],\n",
       "\n",
       "       [[299, 466]],\n",
       "\n",
       "       [[301, 464]],\n",
       "\n",
       "       [[300, 464]],\n",
       "\n",
       "       [[300, 465]],\n",
       "\n",
       "       [[299, 466]],\n",
       "\n",
       "       [[297, 464]],\n",
       "\n",
       "       [[297, 463]]], dtype=int32)"
      ]
     },
     "execution_count": 30,
     "metadata": {},
     "output_type": "execute_result"
    }
   ],
   "source": [
    "contours[0]"
   ]
  },
  {
   "cell_type": "code",
   "execution_count": 32,
   "metadata": {},
   "outputs": [
    {
     "data": {
      "text/plain": [
       "271"
      ]
     },
     "execution_count": 32,
     "metadata": {},
     "output_type": "execute_result"
    }
   ],
   "source": [
    "len(contours)"
   ]
  },
  {
   "cell_type": "code",
   "execution_count": 33,
   "metadata": {},
   "outputs": [],
   "source": [
    "c = sorted(contours[0] , key=cv.contourArea, reverse=True)[:5]"
   ]
  },
  {
   "cell_type": "code",
   "execution_count": 7,
   "metadata": {},
   "outputs": [],
   "source": [
    "cv.imshow(\"image\", im2)\n",
    "cv.waitKey(0)\n",
    "cv.destroyAllWindows()"
   ]
  },
  {
   "cell_type": "code",
   "execution_count": 17,
   "metadata": {},
   "outputs": [],
   "source": [
    "import numpy as np\n",
    "import cv2\n",
    "    \n",
    "im = cv2.imread('../images/bill_supermarket.jpg')\n",
    "imgray = cv2.cvtColor(im,cv2.COLOR_BGR2GRAY)\n",
    "ret,thresh = cv2.threshold(imgray,127,255,0)\n",
    "im2, contours, hierarchy = cv2.findContours(thresh,cv2.RETR_TREE,cv2.CHAIN_APPROX_SIMPLE)"
   ]
  },
  {
   "cell_type": "code",
   "execution_count": 18,
   "metadata": {},
   "outputs": [],
   "source": [
    "im3  = im.copy()\n",
    "cv2.drawContours(im3, contours, -1, (0,255,0), 3)\n",
    "cv2.imshow(\"image\",im3)"
   ]
  },
  {
   "cell_type": "code",
   "execution_count": 13,
   "metadata": {},
   "outputs": [
    {
     "data": {
      "text/plain": [
       "array([[[793, 631]],\n",
       "\n",
       "       [[793, 632]],\n",
       "\n",
       "       [[794, 631]]], dtype=int32)"
      ]
     },
     "execution_count": 13,
     "metadata": {},
     "output_type": "execute_result"
    }
   ],
   "source": [
    "contours[4]"
   ]
  },
  {
   "cell_type": "code",
   "execution_count": 14,
   "metadata": {},
   "outputs": [
    {
     "data": {
      "text/plain": [
       "array([[[ 32, 632]]], dtype=int32)"
      ]
     },
     "execution_count": 14,
     "metadata": {},
     "output_type": "execute_result"
    }
   ],
   "source": [
    "contours[3]"
   ]
  },
  {
   "cell_type": "code",
   "execution_count": 15,
   "metadata": {},
   "outputs": [
    {
     "data": {
      "text/plain": [
       "array([[[787, 631]]], dtype=int32)"
      ]
     },
     "execution_count": 15,
     "metadata": {},
     "output_type": "execute_result"
    }
   ],
   "source": [
    "contours[5]"
   ]
  },
  {
   "cell_type": "code",
   "execution_count": 16,
   "metadata": {},
   "outputs": [
    {
     "data": {
      "text/plain": [
       "array([[[797, 629]],\n",
       "\n",
       "       [[796, 630]],\n",
       "\n",
       "       [[796, 632]],\n",
       "\n",
       "       [[797, 632]]], dtype=int32)"
      ]
     },
     "execution_count": 16,
     "metadata": {},
     "output_type": "execute_result"
    }
   ],
   "source": [
    "contours[6]"
   ]
  },
  {
   "cell_type": "code",
   "execution_count": 14,
   "metadata": {
    "scrolled": true
   },
   "outputs": [
    {
     "name": "stdout",
     "output_type": "stream",
     "text": [
      "Contours in the image, 284\n"
     ]
    }
   ],
   "source": [
    "import cv2\n",
    "import numpy as np\n",
    "import imutils\n",
    "image = cv2.imread('../images/image2.jpg')\n",
    "image = imutils.resize(image, height=500)\n",
    "blurred = cv2.pyrMeanShiftFiltering(image, 10,20)\n",
    "gray = cv2.cvtColor(image, cv2.COLOR_BGR2GRAY)\n",
    "# using GaussianBlur for making the image blur\n",
    "# blurred = cv2.GaussianBlur(gray, (5, 5), 0)\n",
    "cv2.imshow(\"blurred\", blurred)\n",
    "\n",
    "\n",
    "ret, threshold = cv2.threshold(gray, 0,255,cv2.THRESH_BINARY+cv2.THRESH_OTSU)\n",
    "# edge detection in the image\n",
    "# canny = cv2.Canny(blurred, 100, 200)\n",
    "\n",
    "# finding the contourse which comes in 2nd parameter of the tuple\n",
    "(_, cnts, _) = cv2.findContours(threshold, cv2.RETR_LIST, cv2.CHAIN_APPROX_NONE)\n",
    "\n",
    "print (\"Contours in the image, %d\" % (len(cnts)))\n",
    "\n",
    "shape = image.copy()\n",
    "cv2.drawContours(shape, cnts, -1, (0, 255, 0), 2)\n",
    "cv2.imshow(\"All contours\", shape)\n",
    "\n",
    "\n",
    "shape2  = image.copy()\n",
    "# now i want to get the biggest contour\n",
    "cnts = sorted(cnts, key=cv2.contourArea, reverse=True)[:1]\n",
    "cv2.drawContours(shape2, cnts, -1, (255,0,0),2)\n",
    "cv2.imshow(\"biggest\",shape2)\n",
    "\n",
    "# printing the area\n",
    "# per = 0\n",
    "# ind = 0\n",
    "# for index,c in enumerate(cnts):\n",
    "    \n",
    "#     peri = cv2.arcLength(c, True)\n",
    "#     print(\"{} {}\".format(index, peri))\n",
    "#     if peri > per:\n",
    "#         per = peri\n",
    "#         ind = index\n",
    "# print(ind)\n",
    "# approx = cv2.approxPolyDP(c,  0.001*per, True)\n",
    "# screenCnt2 = approx\n",
    "# if our approximated contour has four points, then we\n",
    "# can assume that we have found our screen\n",
    "# if len(approx) == 4:\n",
    "#     print(\"doing operation on frame{}\".format(index))\n",
    "#     screenCnt2 = approx\n",
    "#     break\n",
    "    \n",
    "    \n",
    "# shape3 = image.copy()\n",
    "# cv2.drawContours(shape3, [screenCnt2],-1, (0,0,255),2),\n",
    "# cv2.imshow(\"final\",shape3)\n",
    "cv2.waitKey(0)\n",
    "cv2.destroyAllWindows()"
   ]
  },
  {
   "cell_type": "code",
   "execution_count": null,
   "metadata": {},
   "outputs": [],
   "source": []
  },
  {
   "cell_type": "code",
   "execution_count": null,
   "metadata": {},
   "outputs": [],
   "source": []
  },
  {
   "cell_type": "code",
   "execution_count": null,
   "metadata": {},
   "outputs": [],
   "source": []
  },
  {
   "cell_type": "code",
   "execution_count": null,
   "metadata": {},
   "outputs": [],
   "source": []
  },
  {
   "cell_type": "markdown",
   "metadata": {},
   "source": [
    "## Using another approach"
   ]
  },
  {
   "cell_type": "code",
   "execution_count": 24,
   "metadata": {},
   "outputs": [
    {
     "name": "stdout",
     "output_type": "stream",
     "text": [
      "Contours in the image, 496\n",
      "Got the box....inside the if \n"
     ]
    }
   ],
   "source": [
    "import cv2\n",
    "import numpy as np\n",
    "import imutils\n",
    "from transform import four_point_transform\n",
    "from skimage.filters import threshold_local\n",
    "\n",
    "\n",
    "image = cv2.imread('../images/bill_supermarket.jpg')\n",
    "orig= image.copy()\n",
    "ratio = image.shape[0]/500.0\n",
    "image = imutils.resize(image, height=500)\n",
    "blurred = cv2.pyrMeanShiftFiltering(image, 10,20)\n",
    "gray = cv2.cvtColor(image, cv2.COLOR_BGR2GRAY)\n",
    "\n",
    "\n",
    "\n",
    "ret, threshold = cv2.threshold(gray, 0,255,cv2.THRESH_BINARY+cv2.THRESH_OTSU)\n",
    "(_, cnts, _) = cv2.findContours(threshold, cv2.RETR_LIST, cv2.CHAIN_APPROX_NONE)\n",
    "\n",
    "print (\"Contours in the image, %d\" % (len(cnts)))\n",
    "\n",
    "shape = image.copy()\n",
    "cv2.drawContours(shape, cnts, -1, (0, 255, 0), 2)\n",
    "\n",
    "\n",
    "\n",
    "shape2  = image.copy()\n",
    "\n",
    "# now i want to get the biggest contour\n",
    "cnts = sorted(cnts, key=cv2.contourArea, reverse=True)[:5]\n",
    "cv2.drawContours(shape2, cnts, 0, (0,0,255),2)\n",
    "\n",
    "# abc = cnts[0]\n",
    "\n",
    "\n",
    "for c in cnts:\n",
    "    # approximate the contour\n",
    "    peri = cv2.arcLength(c, True)\n",
    "    approx = cv2.approxPolyDP(c, 0.02 * peri, True)\n",
    " \n",
    "    # if our approximated contour has four points, then we\n",
    "    # can assume that we have found our screen\n",
    "    if len(approx) == 4:\n",
    "        print(\"Got the box....inside the if \")\n",
    "        screenCnt = approx\n",
    "        break\n",
    "\n",
    "shape3 = image.copy()\n",
    "cv2.drawContours(shape3, [screenCnt], -1, (0, 0, 255), 2)\n",
    "\n",
    "\n",
    "\n",
    "\n",
    "warped = four_point_transform(orig, screenCnt.reshape(4, 2) * ratio)\n",
    " \n",
    "# convert the warped image to grayscale, then threshold it\n",
    "# to give it that 'black and white' paper effect\n",
    "warped = cv2.cvtColor(warped, cv2.COLOR_BGR2GRAY)\n",
    "T = threshold_local(warped, 11, offset = 10, method = \"gaussian\")\n",
    "warped = (warped > T).astype(\"uint8\") * 255\n",
    " \n",
    "\n",
    "# show all the images\n",
    "cv2.imshow(\"Original image\", orig )\n",
    "cv2.imshow(\"blurred image\", blurred)\n",
    "cv2.imshow(\"All contours\", shape)\n",
    "cv2.imshow(\"biggest contour\",shape2)\n",
    "cv2.imshow(\"Box\", shape3)\n",
    "cv2.imshow(\"Final Scanned\", warped)\n",
    "\n",
    "\n",
    "cv2.waitKey(0)\n",
    "cv2.destroyAllWindows()\n"
   ]
  },
  {
   "cell_type": "code",
   "execution_count": 13,
   "metadata": {},
   "outputs": [
    {
     "data": {
      "text/plain": [
       "(4, 1, 2)"
      ]
     },
     "execution_count": 13,
     "metadata": {},
     "output_type": "execute_result"
    }
   ],
   "source": [
    "screenCnt.shape"
   ]
  },
  {
   "cell_type": "code",
   "execution_count": 21,
   "metadata": {},
   "outputs": [
    {
     "data": {
      "text/plain": [
       "(563, 400)"
      ]
     },
     "execution_count": 21,
     "metadata": {},
     "output_type": "execute_result"
    }
   ],
   "source": [
    "warped.shape"
   ]
  },
  {
   "cell_type": "code",
   "execution_count": 22,
   "metadata": {},
   "outputs": [
    {
     "data": {
      "text/plain": [
       "(633, 800, 3)"
      ]
     },
     "execution_count": 22,
     "metadata": {},
     "output_type": "execute_result"
    }
   ],
   "source": [
    "orig.shape"
   ]
  },
  {
   "cell_type": "code",
   "execution_count": null,
   "metadata": {},
   "outputs": [],
   "source": []
  }
 ],
 "metadata": {
  "kernelspec": {
   "display_name": "Python 3",
   "language": "python",
   "name": "python3"
  },
  "language_info": {
   "codemirror_mode": {
    "name": "ipython",
    "version": 3
   },
   "file_extension": ".py",
   "mimetype": "text/x-python",
   "name": "python",
   "nbconvert_exporter": "python",
   "pygments_lexer": "ipython3",
   "version": "3.6.5"
  }
 },
 "nbformat": 4,
 "nbformat_minor": 2
}
