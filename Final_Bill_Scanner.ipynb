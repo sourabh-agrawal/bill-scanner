{
 "cells": [
  {
   "cell_type": "code",
   "execution_count": 23,
   "metadata": {},
   "outputs": [
    {
     "name": "stdout",
     "output_type": "stream",
     "text": [
      "Contours in the image, 274\n",
      "Got the box....inside the if \n"
     ]
    }
   ],
   "source": [
    "import cv2\n",
    "import numpy as np\n",
    "import imutils\n",
    "from transform import four_point_transform\n",
    "from skimage.filters import threshold_local\n",
    "\n",
    "\n",
    "image = cv2.imread('images/bill.png')\n",
    "orig= image.copy()\n",
    "ratio = image.shape[0]/500.0\n",
    "image = imutils.resize(image, height=500)\n",
    "blurred = cv2.pyrMeanShiftFiltering(image, 10,20)\n",
    "gray = cv2.cvtColor(image, cv2.COLOR_BGR2GRAY)\n",
    "\n",
    "cv2.imshow(\"blurred image\", blurred)\n",
    "\n",
    "\n",
    "ret, threshold = cv2.threshold(gray, 0,255,cv2.THRESH_BINARY+cv2.THRESH_OTSU)\n",
    "(_, cnts, _) = cv2.findContours(threshold, cv2.RETR_LIST, cv2.CHAIN_APPROX_NONE)\n",
    "\n",
    "print (\"Contours in the image, %d\" % (len(cnts)))\n",
    "\n",
    "shape = image.copy()\n",
    "cv2.drawContours(shape, cnts, -1, (0, 255, 0), 2)\n",
    "cv2.imshow(\"All contours\", shape)\n",
    "\n",
    "\n",
    "shape2  = image.copy()\n",
    "\n",
    "# now i want to get the biggest contour\n",
    "cnts = sorted(cnts, key=cv2.contourArea, reverse=True)[:5]\n",
    "cv2.drawContours(shape2, cnts, 0, (0,0,255),2)\n",
    "cv2.imshow(\"biggest contour\",shape2)\n",
    "# abc = cnts[0]\n",
    "\n",
    "\n",
    "for c in cnts:\n",
    "    # approximate the contour\n",
    "    peri = cv2.arcLength(c, True)\n",
    "    approx = cv2.approxPolyDP(c, 0.02 * peri, True)\n",
    " \n",
    "    # if our approximated contour has four points, then we\n",
    "    # can assume that we have found our screen\n",
    "    if len(approx) == 4:\n",
    "        print(\"Got the box....inside the if \")\n",
    "        screenCnt = approx\n",
    "        break\n",
    "\n",
    "shape3 = image.copy()\n",
    "cv2.drawContours(shape3, [screenCnt], -1, (0, 0, 255), 2)\n",
    "cv2.imshow(\"Box\", shape3)\n",
    "\n",
    "\n",
    "\n",
    "warped = four_point_transform(orig, screenCnt.reshape(4, 2) * ratio)\n",
    " \n",
    "# convert the warped image to grayscale, then threshold it\n",
    "# to give it that 'black and white' paper effect\n",
    "warped = cv2.cvtColor(warped, cv2.COLOR_BGR2GRAY)\n",
    "T = threshold_local(warped, 11, offset = 10, method = \"gaussian\")\n",
    "warped = (warped > T).astype(\"uint8\") * 255\n",
    " \n",
    "\n",
    "# show all the images\n",
    "# original and final reshaped image can be very large so fix some height\n",
    "\n",
    "cv2.imshow(\"Original image\", imutils.resize(orig, height = 650) )\n",
    "cv2.imshow(\"Final Scanned\", imutils.resize(warped, height = 650) )\n",
    "\n",
    "k = cv2.waitKey(0)\n",
    "if k == 27 or k == ord('q'):\n",
    "    cv2.destroyAllWindows()\n",
    "\n",
    "if cv2.waitKey(0) == ord('q'):\n",
    "    \n",
    "# cv2.waitKey(0)\n",
    "    cv2.destroyAllWindows()\n"
   ]
  },
  {
   "cell_type": "code",
   "execution_count": null,
   "metadata": {},
   "outputs": [],
   "source": []
  },
  {
   "cell_type": "code",
   "execution_count": null,
   "metadata": {},
   "outputs": [],
   "source": []
  }
 ],
 "metadata": {
  "kernelspec": {
   "display_name": "Python 3",
   "language": "python",
   "name": "python3"
  },
  "language_info": {
   "codemirror_mode": {
    "name": "ipython",
    "version": 3
   },
   "file_extension": ".py",
   "mimetype": "text/x-python",
   "name": "python",
   "nbconvert_exporter": "python",
   "pygments_lexer": "ipython3",
   "version": "3.6.5"
  }
 },
 "nbformat": 4,
 "nbformat_minor": 2
}
